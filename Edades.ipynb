{
 "cells": [
  {
   "cell_type": "code",
   "execution_count": 21,
   "metadata": {},
   "outputs": [
    {
     "name": "stdout",
     "output_type": "stream",
     "text": [
      "How old is the student 1?9\n",
      "How old is the student 2?9\n",
      "How old is the student 3?9\n",
      "So, the sample mean is 9\n"
     ]
    }
   ],
   "source": [
    "print(\"How old is the student 1?\", end = '')\n",
    "a = int(input())\n",
    "print(\"How old is the student 2?\", end = '')\n",
    "b = int(input())\n",
    "print(\"How old is the student 3?\", end = '')\n",
    "c = int(input())\n",
    "suma = int(a+b+c)\n",
    "samplemean = int(suma/3)\n",
    "print(f\"So, the sample mean is {samplemean}\")"
   ]
  },
  {
   "cell_type": "code",
   "execution_count": null,
   "metadata": {},
   "outputs": [],
   "source": []
  },
  {
   "cell_type": "code",
   "execution_count": null,
   "metadata": {},
   "outputs": [],
   "source": []
  }
 ],
 "metadata": {
  "kernelspec": {
   "display_name": "Python 3",
   "language": "python",
   "name": "python3"
  },
  "language_info": {
   "codemirror_mode": {
    "name": "ipython",
    "version": 3
   },
   "file_extension": ".py",
   "mimetype": "text/x-python",
   "name": "python",
   "nbconvert_exporter": "python",
   "pygments_lexer": "ipython3",
   "version": "3.7.3"
  }
 },
 "nbformat": 4,
 "nbformat_minor": 2
}
